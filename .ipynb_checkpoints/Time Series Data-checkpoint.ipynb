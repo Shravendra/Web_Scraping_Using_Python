{
 "cells": [
  {
   "cell_type": "markdown",
   "id": "233e4d19",
   "metadata": {},
   "source": [
    "# Importing some useful libraries\n"
   ]
  },
  {
   "cell_type": "code",
   "execution_count": 1,
   "id": "8cf6cf48",
   "metadata": {},
   "outputs": [],
   "source": [
    "import pandas as pd\n",
    "import numpy as np\n",
    "import urllib\n",
    "from urllib.request import urlretrieve"
   ]
  },
  {
   "cell_type": "markdown",
   "id": "d58563c3",
   "metadata": {},
   "source": [
    "# urls for time series and area code data"
   ]
  },
  {
   "cell_type": "code",
   "execution_count": 2,
   "id": "ef6cd92e",
   "metadata": {},
   "outputs": [],
   "source": [
    "url1 = \"https://download.bls.gov/pub/time.series/la/la.data.60.Metro\"\n",
    "url2 = \"https://download.bls.gov/pub/time.series/la/la.area\""
   ]
  },
  {
   "cell_type": "markdown",
   "id": "310416a5",
   "metadata": {},
   "source": [
    "# Saving the data as .csv file"
   ]
  },
  {
   "cell_type": "code",
   "execution_count": 4,
   "id": "f096cf8d",
   "metadata": {},
   "outputs": [
    {
     "data": {
      "text/plain": [
       "('C:\\\\Users\\\\Admin\\\\Desktop\\\\WebScrapper (Python-Data-Engineer)/area_codes.csv',\n",
       " <http.client.HTTPMessage at 0x22f1620a680>)"
      ]
     },
     "execution_count": 4,
     "metadata": {},
     "output_type": "execute_result"
    }
   ],
   "source": [
    "urlretrieve(url1, 'C:\\\\Users\\Admin\\Desktop\\WebScrapper (Python-Data-Engineer)/timeseries.csv')\n",
    "urlretrieve(url2, 'C:\\\\Users\\Admin\\Desktop\\WebScrapper (Python-Data-Engineer)/area_codes.csv')"
   ]
  },
  {
   "cell_type": "markdown",
   "id": "8e230cc5",
   "metadata": {},
   "source": [
    "# Reading in time series data"
   ]
  },
  {
   "cell_type": "code",
   "execution_count": 6,
   "id": "b6914d42",
   "metadata": {},
   "outputs": [
    {
     "name": "stderr",
     "output_type": "stream",
     "text": [
      "C:\\Users\\Admin\\AppData\\Local\\Temp\\ipykernel_4420\\708387673.py:2: DtypeWarning: Columns (3) have mixed types. Specify dtype option on import or set low_memory=False.\n",
      "  df1 = pd.read_csv('C:\\\\Users\\Admin\\Desktop\\WebScrapper (Python-Data-Engineer)/timeseries.csv', delimiter=\"\\t\")\n"
     ]
    }
   ],
   "source": [
    "#Creating a variable with df1 i.e data frame one\n",
    "df1 = pd.read_csv('C:\\\\Users\\Admin\\Desktop\\WebScrapper (Python-Data-Engineer)/timeseries.csv', delimiter=\"\\t\")"
   ]
  },
  {
   "cell_type": "code",
   "execution_count": 7,
   "id": "1ffdb3a2",
   "metadata": {},
   "outputs": [
    {
     "data": {
      "text/html": [
       "<div>\n",
       "<style scoped>\n",
       "    .dataframe tbody tr th:only-of-type {\n",
       "        vertical-align: middle;\n",
       "    }\n",
       "\n",
       "    .dataframe tbody tr th {\n",
       "        vertical-align: top;\n",
       "    }\n",
       "\n",
       "    .dataframe thead th {\n",
       "        text-align: right;\n",
       "    }\n",
       "</style>\n",
       "<table border=\"1\" class=\"dataframe\">\n",
       "  <thead>\n",
       "    <tr style=\"text-align: right;\">\n",
       "      <th></th>\n",
       "      <th>series_id</th>\n",
       "      <th>year</th>\n",
       "      <th>period</th>\n",
       "      <th>value</th>\n",
       "      <th>footnote_codes</th>\n",
       "    </tr>\n",
       "  </thead>\n",
       "  <tbody>\n",
       "    <tr>\n",
       "      <th>0</th>\n",
       "      <td>LASMT261982000000003</td>\n",
       "      <td>1990</td>\n",
       "      <td>M01</td>\n",
       "      <td>7.6</td>\n",
       "      <td>NaN</td>\n",
       "    </tr>\n",
       "    <tr>\n",
       "      <th>1</th>\n",
       "      <td>LASMT261982000000003</td>\n",
       "      <td>1990</td>\n",
       "      <td>M02</td>\n",
       "      <td>7.6</td>\n",
       "      <td>NaN</td>\n",
       "    </tr>\n",
       "    <tr>\n",
       "      <th>2</th>\n",
       "      <td>LASMT261982000000003</td>\n",
       "      <td>1990</td>\n",
       "      <td>M03</td>\n",
       "      <td>7.5</td>\n",
       "      <td>NaN</td>\n",
       "    </tr>\n",
       "    <tr>\n",
       "      <th>3</th>\n",
       "      <td>LASMT261982000000003</td>\n",
       "      <td>1990</td>\n",
       "      <td>M04</td>\n",
       "      <td>7.6</td>\n",
       "      <td>NaN</td>\n",
       "    </tr>\n",
       "    <tr>\n",
       "      <th>4</th>\n",
       "      <td>LASMT261982000000003</td>\n",
       "      <td>1990</td>\n",
       "      <td>M05</td>\n",
       "      <td>7.6</td>\n",
       "      <td>NaN</td>\n",
       "    </tr>\n",
       "  </tbody>\n",
       "</table>\n",
       "</div>"
      ],
      "text/plain": [
       "   series_id                       year period        value footnote_codes\n",
       "0  LASMT261982000000003            1990    M01          7.6            NaN\n",
       "1  LASMT261982000000003            1990    M02          7.6            NaN\n",
       "2  LASMT261982000000003            1990    M03          7.5            NaN\n",
       "3  LASMT261982000000003            1990    M04          7.6            NaN\n",
       "4  LASMT261982000000003            1990    M05          7.6            NaN"
      ]
     },
     "execution_count": 7,
     "metadata": {},
     "output_type": "execute_result"
    }
   ],
   "source": [
    "# Checking the first five rows of data frame\n",
    "\n",
    "df1.head()"
   ]
  },
  {
   "cell_type": "code",
   "execution_count": 8,
   "id": "1f775dbe",
   "metadata": {},
   "outputs": [
    {
     "data": {
      "text/html": [
       "<div>\n",
       "<style scoped>\n",
       "    .dataframe tbody tr th:only-of-type {\n",
       "        vertical-align: middle;\n",
       "    }\n",
       "\n",
       "    .dataframe tbody tr th {\n",
       "        vertical-align: top;\n",
       "    }\n",
       "\n",
       "    .dataframe thead th {\n",
       "        text-align: right;\n",
       "    }\n",
       "</style>\n",
       "<table border=\"1\" class=\"dataframe\">\n",
       "  <thead>\n",
       "    <tr style=\"text-align: right;\">\n",
       "      <th></th>\n",
       "      <th>series_id</th>\n",
       "      <th>year</th>\n",
       "      <th>period</th>\n",
       "      <th>value</th>\n",
       "      <th>footnote_codes</th>\n",
       "    </tr>\n",
       "  </thead>\n",
       "  <tbody>\n",
       "    <tr>\n",
       "      <th>676339</th>\n",
       "      <td>LAUMT724198000000006</td>\n",
       "      <td>2022</td>\n",
       "      <td>M05</td>\n",
       "      <td>807903</td>\n",
       "      <td>NaN</td>\n",
       "    </tr>\n",
       "    <tr>\n",
       "      <th>676340</th>\n",
       "      <td>LAUMT724198000000006</td>\n",
       "      <td>2022</td>\n",
       "      <td>M06</td>\n",
       "      <td>796940</td>\n",
       "      <td>NaN</td>\n",
       "    </tr>\n",
       "    <tr>\n",
       "      <th>676341</th>\n",
       "      <td>LAUMT724198000000006</td>\n",
       "      <td>2022</td>\n",
       "      <td>M07</td>\n",
       "      <td>782662</td>\n",
       "      <td>NaN</td>\n",
       "    </tr>\n",
       "    <tr>\n",
       "      <th>676342</th>\n",
       "      <td>LAUMT724198000000006</td>\n",
       "      <td>2022</td>\n",
       "      <td>M08</td>\n",
       "      <td>788493</td>\n",
       "      <td>P</td>\n",
       "    </tr>\n",
       "    <tr>\n",
       "      <th>676343</th>\n",
       "      <td>LAUMT724198000000006</td>\n",
       "      <td>2022</td>\n",
       "      <td>M09</td>\n",
       "      <td>-</td>\n",
       "      <td>N</td>\n",
       "    </tr>\n",
       "  </tbody>\n",
       "</table>\n",
       "</div>"
      ],
      "text/plain": [
       "        series_id                       year period         value  \\\n",
       "676339  LAUMT724198000000006            2022    M05        807903   \n",
       "676340  LAUMT724198000000006            2022    M06        796940   \n",
       "676341  LAUMT724198000000006            2022    M07        782662   \n",
       "676342  LAUMT724198000000006            2022    M08        788493   \n",
       "676343  LAUMT724198000000006            2022    M09             -   \n",
       "\n",
       "       footnote_codes  \n",
       "676339            NaN  \n",
       "676340            NaN  \n",
       "676341            NaN  \n",
       "676342              P  \n",
       "676343              N  "
      ]
     },
     "execution_count": 8,
     "metadata": {},
     "output_type": "execute_result"
    }
   ],
   "source": [
    "# Checking the last five rows of data frame\n",
    "\n",
    "df1.tail()"
   ]
  },
  {
   "cell_type": "code",
   "execution_count": 9,
   "id": "e6a116f2",
   "metadata": {},
   "outputs": [
    {
     "name": "stdout",
     "output_type": "stream",
     "text": [
      "<class 'pandas.core.frame.DataFrame'>\n",
      "RangeIndex: 676344 entries, 0 to 676343\n",
      "Data columns (total 5 columns):\n",
      " #   Column                          Non-Null Count   Dtype \n",
      "---  ------                          --------------   ----- \n",
      " 0   series_id                       676344 non-null  object\n",
      " 1   year                            676344 non-null  int64 \n",
      " 2   period                          676344 non-null  object\n",
      " 3          value                    676344 non-null  object\n",
      " 4   footnote_codes                  1788 non-null    object\n",
      "dtypes: int64(1), object(4)\n",
      "memory usage: 25.8+ MB\n"
     ]
    }
   ],
   "source": [
    "# For some general info about the data like data type, nos. of columns...  \n",
    " \n",
    "df1.info()"
   ]
  },
  {
   "cell_type": "code",
   "execution_count": 10,
   "id": "36827dcb",
   "metadata": {},
   "outputs": [
    {
     "data": {
      "text/plain": [
       "Index(['series_id                     ', 'year', 'period', '       value',\n",
       "       'footnote_codes'],\n",
       "      dtype='object')"
      ]
     },
     "execution_count": 10,
     "metadata": {},
     "output_type": "execute_result"
    }
   ],
   "source": [
    "# Looking at the info, I could see leading whitespace around the column called value so I checked the column names\n",
    "# Doing this shows leading and trailing whitespaces around column names\n",
    "df1.columns"
   ]
  },
  {
   "cell_type": "markdown",
   "id": "8a517318",
   "metadata": {},
   "source": [
    "# I am aiming for the unemployment rate"
   ]
  },
  {
   "cell_type": "code",
   "execution_count": 11,
   "id": "bb9c0f4a",
   "metadata": {},
   "outputs": [],
   "source": [
    "# Renaming the columns to clear the whitespace\n",
    "# value is the indicator name in this case.\n",
    "df1.rename(columns={'series_id                     ':'series_id', '       value':'unemployment'}, inplace=True)"
   ]
  },
  {
   "cell_type": "code",
   "execution_count": 12,
   "id": "fb3c6822",
   "metadata": {},
   "outputs": [],
   "source": [
    "# Droping the specific column \"footnote_codes\".\n",
    "df1.drop('footnote_codes', axis = 1, inplace=True)"
   ]
  },
  {
   "cell_type": "code",
   "execution_count": 13,
   "id": "67519adf",
   "metadata": {},
   "outputs": [],
   "source": [
    "# Creating a variable measure from series_id. \n",
    "# I read from the metadata file that the last two characters of series_id \n",
    "# represent the name of an indicator. In this case 03 = unemployment rate. \n",
    "# See https://download.bls.gov/pub/time.series/la/la.measure.\n",
    "df1['measure'] = df1['series_id'].apply(lambda x: x[18:].strip())"
   ]
  },
  {
   "cell_type": "code",
   "execution_count": 14,
   "id": "5220f0f3",
   "metadata": {},
   "outputs": [
    {
     "name": "stdout",
     "output_type": "stream",
     "text": [
      "<class 'pandas.core.frame.DataFrame'>\n",
      "RangeIndex: 676344 entries, 0 to 676343\n",
      "Data columns (total 5 columns):\n",
      " #   Column        Non-Null Count   Dtype \n",
      "---  ------        --------------   ----- \n",
      " 0   series_id     676344 non-null  object\n",
      " 1   year          676344 non-null  int64 \n",
      " 2   period        676344 non-null  object\n",
      " 3   unemployment  676344 non-null  object\n",
      " 4   measure       676344 non-null  object\n",
      "dtypes: int64(1), object(4)\n",
      "memory usage: 25.8+ MB\n"
     ]
    }
   ],
   "source": [
    "# Since cleaning is an iterative process, I am checking the data again.\n",
    "df1.info()"
   ]
  },
  {
   "cell_type": "code",
   "execution_count": 15,
   "id": "95212b52",
   "metadata": {},
   "outputs": [
    {
     "data": {
      "text/html": [
       "<div>\n",
       "<style scoped>\n",
       "    .dataframe tbody tr th:only-of-type {\n",
       "        vertical-align: middle;\n",
       "    }\n",
       "\n",
       "    .dataframe tbody tr th {\n",
       "        vertical-align: top;\n",
       "    }\n",
       "\n",
       "    .dataframe thead th {\n",
       "        text-align: right;\n",
       "    }\n",
       "</style>\n",
       "<table border=\"1\" class=\"dataframe\">\n",
       "  <thead>\n",
       "    <tr style=\"text-align: right;\">\n",
       "      <th></th>\n",
       "      <th>series_id</th>\n",
       "      <th>year</th>\n",
       "      <th>period</th>\n",
       "      <th>unemployment</th>\n",
       "      <th>measure</th>\n",
       "    </tr>\n",
       "  </thead>\n",
       "  <tbody>\n",
       "    <tr>\n",
       "      <th>0</th>\n",
       "      <td>LASMT261982000000003</td>\n",
       "      <td>1990</td>\n",
       "      <td>M01</td>\n",
       "      <td>7.6</td>\n",
       "      <td>03</td>\n",
       "    </tr>\n",
       "    <tr>\n",
       "      <th>1</th>\n",
       "      <td>LASMT261982000000003</td>\n",
       "      <td>1990</td>\n",
       "      <td>M02</td>\n",
       "      <td>7.6</td>\n",
       "      <td>03</td>\n",
       "    </tr>\n",
       "    <tr>\n",
       "      <th>2</th>\n",
       "      <td>LASMT261982000000003</td>\n",
       "      <td>1990</td>\n",
       "      <td>M03</td>\n",
       "      <td>7.5</td>\n",
       "      <td>03</td>\n",
       "    </tr>\n",
       "    <tr>\n",
       "      <th>3</th>\n",
       "      <td>LASMT261982000000003</td>\n",
       "      <td>1990</td>\n",
       "      <td>M04</td>\n",
       "      <td>7.6</td>\n",
       "      <td>03</td>\n",
       "    </tr>\n",
       "    <tr>\n",
       "      <th>4</th>\n",
       "      <td>LASMT261982000000003</td>\n",
       "      <td>1990</td>\n",
       "      <td>M05</td>\n",
       "      <td>7.6</td>\n",
       "      <td>03</td>\n",
       "    </tr>\n",
       "  </tbody>\n",
       "</table>\n",
       "</div>"
      ],
      "text/plain": [
       "                        series_id  year period unemployment measure\n",
       "0  LASMT261982000000003            1990    M01          7.6      03\n",
       "1  LASMT261982000000003            1990    M02          7.6      03\n",
       "2  LASMT261982000000003            1990    M03          7.5      03\n",
       "3  LASMT261982000000003            1990    M04          7.6      03\n",
       "4  LASMT261982000000003            1990    M05          7.6      03"
      ]
     },
     "execution_count": 15,
     "metadata": {},
     "output_type": "execute_result"
    }
   ],
   "source": [
    "df1.head()"
   ]
  },
  {
   "cell_type": "code",
   "execution_count": 16,
   "id": "7b540948",
   "metadata": {},
   "outputs": [
    {
     "data": {
      "text/plain": [
       "03    169086\n",
       "04    169086\n",
       "05    169086\n",
       "06    169086\n",
       "Name: measure, dtype: int64"
      ]
     },
     "execution_count": 16,
     "metadata": {},
     "output_type": "execute_result"
    }
   ],
   "source": [
    "# What other data values are in the measure variable?\n",
    "df1['measure'].value_counts()"
   ]
  },
  {
   "cell_type": "code",
   "execution_count": 17,
   "id": "baedb4fb",
   "metadata": {},
   "outputs": [],
   "source": [
    "# Filtering unemployment data\n",
    "df1 = df1[df1['measure'] == '03']\n",
    "df1.reset_index(drop = True, inplace=True)"
   ]
  },
  {
   "cell_type": "code",
   "execution_count": 18,
   "id": "b804bf45",
   "metadata": {},
   "outputs": [
    {
     "data": {
      "text/html": [
       "<div>\n",
       "<style scoped>\n",
       "    .dataframe tbody tr th:only-of-type {\n",
       "        vertical-align: middle;\n",
       "    }\n",
       "\n",
       "    .dataframe tbody tr th {\n",
       "        vertical-align: top;\n",
       "    }\n",
       "\n",
       "    .dataframe thead th {\n",
       "        text-align: right;\n",
       "    }\n",
       "</style>\n",
       "<table border=\"1\" class=\"dataframe\">\n",
       "  <thead>\n",
       "    <tr style=\"text-align: right;\">\n",
       "      <th></th>\n",
       "      <th>series_id</th>\n",
       "      <th>year</th>\n",
       "      <th>period</th>\n",
       "      <th>unemployment</th>\n",
       "      <th>measure</th>\n",
       "    </tr>\n",
       "  </thead>\n",
       "  <tbody>\n",
       "    <tr>\n",
       "      <th>169081</th>\n",
       "      <td>LAUMT724198000000003</td>\n",
       "      <td>2022</td>\n",
       "      <td>M05</td>\n",
       "      <td>5.0</td>\n",
       "      <td>03</td>\n",
       "    </tr>\n",
       "    <tr>\n",
       "      <th>169082</th>\n",
       "      <td>LAUMT724198000000003</td>\n",
       "      <td>2022</td>\n",
       "      <td>M06</td>\n",
       "      <td>5.0</td>\n",
       "      <td>03</td>\n",
       "    </tr>\n",
       "    <tr>\n",
       "      <th>169083</th>\n",
       "      <td>LAUMT724198000000003</td>\n",
       "      <td>2022</td>\n",
       "      <td>M07</td>\n",
       "      <td>4.9</td>\n",
       "      <td>03</td>\n",
       "    </tr>\n",
       "    <tr>\n",
       "      <th>169084</th>\n",
       "      <td>LAUMT724198000000003</td>\n",
       "      <td>2022</td>\n",
       "      <td>M08</td>\n",
       "      <td>5.2</td>\n",
       "      <td>03</td>\n",
       "    </tr>\n",
       "    <tr>\n",
       "      <th>169085</th>\n",
       "      <td>LAUMT724198000000003</td>\n",
       "      <td>2022</td>\n",
       "      <td>M09</td>\n",
       "      <td>-</td>\n",
       "      <td>03</td>\n",
       "    </tr>\n",
       "  </tbody>\n",
       "</table>\n",
       "</div>"
      ],
      "text/plain": [
       "                             series_id  year period  unemployment measure\n",
       "169081  LAUMT724198000000003            2022    M05           5.0      03\n",
       "169082  LAUMT724198000000003            2022    M06           5.0      03\n",
       "169083  LAUMT724198000000003            2022    M07           4.9      03\n",
       "169084  LAUMT724198000000003            2022    M08           5.2      03\n",
       "169085  LAUMT724198000000003            2022    M09             -      03"
      ]
     },
     "execution_count": 18,
     "metadata": {},
     "output_type": "execute_result"
    }
   ],
   "source": [
    "df1.tail()"
   ]
  },
  {
   "cell_type": "code",
   "execution_count": 21,
   "id": "6a2d8237",
   "metadata": {},
   "outputs": [
    {
     "name": "stdout",
     "output_type": "stream",
     "text": [
      "{166503: '           -', 166504: '           -', 166513: '           -', 166535: '           -', 166928: '           -', 166929: '           -', 166938: '           -', 166960: '           -', 167353: '           -', 167354: '           -', 167363: '           -', 167385: '           -', 167778: '           -', 167779: '           -', 167788: '           -', 167810: '           -', 168203: '           -', 168204: '           -', 168213: '           -', 168235: '           -', 168628: '           -', 168629: '           -', 168638: '           -', 168660: '           -', 169053: '           -', 169054: '           -', 169063: '           -', 169085: '           -'}\n",
      "28\n"
     ]
    }
   ],
   "source": [
    "#Need to convert unemployment values to float. \n",
    "#Apparently some values were \"bad\" and cannot be changed by Directly applying float()\n",
    "#Build a dictionary of string unemployment values.\n",
    "\n",
    "cnt = 0\n",
    "unemployment_dict = {}\n",
    "for row in df1['unemployment']:\n",
    "    if row is not None:\n",
    "        try:\n",
    "            float(row)\n",
    "            pass\n",
    "        except ValueError:\n",
    "            unemployment_dict[cnt] = row\n",
    "    cnt+=1\n",
    "\n",
    "print(unemployment_dict)\n",
    "print(len(unemployment_dict))"
   ]
  },
  {
   "cell_type": "code",
   "execution_count": 22,
   "id": "8c9b3af7",
   "metadata": {},
   "outputs": [
    {
     "data": {
      "text/plain": [
       "series_id       LAUMT552254000000003          \n",
       "year                                      2022\n",
       "period                                     M01\n",
       "unemployment                               2.7\n",
       "measure                                     03\n",
       "Name: 161427, dtype: object"
      ]
     },
     "execution_count": 22,
     "metadata": {},
     "output_type": "execute_result"
    }
   ],
   "source": [
    "# check \n",
    "df1.loc[161427]"
   ]
  },
  {
   "cell_type": "code",
   "execution_count": 23,
   "id": "abbfe1a4",
   "metadata": {},
   "outputs": [
    {
     "name": "stdout",
     "output_type": "stream",
     "text": [
      "{166503: 'unavailable', 166504: 'unavailable', 166513: 'unavailable', 166535: 'unavailable', 166928: 'unavailable', 166929: 'unavailable', 166938: 'unavailable', 166960: 'unavailable', 167353: 'unavailable', 167354: 'unavailable', 167363: 'unavailable', 167385: 'unavailable', 167778: 'unavailable', 167779: 'unavailable', 167788: 'unavailable', 167810: 'unavailable', 168203: 'unavailable', 168204: 'unavailable', 168213: 'unavailable', 168235: 'unavailable', 168628: 'unavailable', 168629: 'unavailable', 168638: 'unavailable', 168660: 'unavailable', 169053: 'unavailable', 169054: 'unavailable', 169063: 'unavailable', 169085: 'unavailable'}\n"
     ]
    }
   ],
   "source": [
    "# Removing bad characters by first naming them 'unavailable'. \n",
    "# Whitespace stripping did not work, but changing the values to helps to identify the bad data\n",
    "\n",
    "for i in unemployment_dict:\n",
    "    unemployment_dict[i] = \"unavailable\"\n",
    "      \n",
    "print(unemployment_dict)"
   ]
  },
  {
   "cell_type": "code",
   "execution_count": 24,
   "id": "8fca3126",
   "metadata": {},
   "outputs": [],
   "source": [
    "# Now Replacing values in main dataframe\n",
    "for i in unemployment_dict:\n",
    "    df1.loc[i, 'unemployment'] = unemployment_dict[i]"
   ]
  },
  {
   "cell_type": "code",
   "execution_count": 25,
   "id": "c4b6d94a",
   "metadata": {},
   "outputs": [],
   "source": [
    "# Creating the new data frame/set for the cleaned data\n",
    "df2 = df1[df1['unemployment'] != 'unavailable']"
   ]
  },
  {
   "cell_type": "code",
   "execution_count": 26,
   "id": "f6945c51",
   "metadata": {},
   "outputs": [
    {
     "name": "stdout",
     "output_type": "stream",
     "text": [
      "<class 'pandas.core.frame.DataFrame'>\n",
      "Int64Index: 169058 entries, 0 to 169084\n",
      "Data columns (total 5 columns):\n",
      " #   Column        Non-Null Count   Dtype \n",
      "---  ------        --------------   ----- \n",
      " 0   series_id     169058 non-null  object\n",
      " 1   year          169058 non-null  int64 \n",
      " 2   period        169058 non-null  object\n",
      " 3   unemployment  169058 non-null  object\n",
      " 4   measure       169058 non-null  object\n",
      "dtypes: int64(1), object(4)\n",
      "memory usage: 7.7+ MB\n"
     ]
    }
   ],
   "source": [
    "df2.info()"
   ]
  },
  {
   "cell_type": "code",
   "execution_count": 27,
   "id": "132a602a",
   "metadata": {},
   "outputs": [
    {
     "name": "stderr",
     "output_type": "stream",
     "text": [
      "C:\\Users\\Admin\\AppData\\Local\\Temp\\ipykernel_4420\\3007801363.py:2: SettingWithCopyWarning: \n",
      "A value is trying to be set on a copy of a slice from a DataFrame.\n",
      "Try using .loc[row_indexer,col_indexer] = value instead\n",
      "\n",
      "See the caveats in the documentation: https://pandas.pydata.org/pandas-docs/stable/user_guide/indexing.html#returning-a-view-versus-a-copy\n",
      "  df2['unemployment'] = df2['unemployment'].apply(float)\n"
     ]
    }
   ],
   "source": [
    "# Having removed the 'bad' values, the 'good' ones can now be converted to float data\n",
    "df2['unemployment'] = df2['unemployment'].apply(float)"
   ]
  },
  {
   "cell_type": "code",
   "execution_count": 28,
   "id": "e69e2f61",
   "metadata": {},
   "outputs": [
    {
     "name": "stdout",
     "output_type": "stream",
     "text": [
      "<class 'pandas.core.frame.DataFrame'>\n",
      "Int64Index: 13898 entries, 360 to 169084\n",
      "Data columns (total 5 columns):\n",
      " #   Column        Non-Null Count  Dtype  \n",
      "---  ------        --------------  -----  \n",
      " 0   series_id     13898 non-null  object \n",
      " 1   year          13898 non-null  int64  \n",
      " 2   period        13898 non-null  object \n",
      " 3   unemployment  13898 non-null  float64\n",
      " 4   measure       13898 non-null  object \n",
      "dtypes: float64(1), int64(1), object(3)\n",
      "memory usage: 651.5+ KB\n"
     ]
    }
   ],
   "source": [
    "# To keep the data small I filter 2020 to date\n",
    "\n",
    "df3 = df2.loc[df2['year'] >= 2020]\n",
    "df3.info()"
   ]
  },
  {
   "cell_type": "code",
   "execution_count": 29,
   "id": "9eeca30f",
   "metadata": {},
   "outputs": [
    {
     "name": "stderr",
     "output_type": "stream",
     "text": [
      "C:\\Users\\Admin\\AppData\\Local\\Temp\\ipykernel_4420\\447014200.py:4: SettingWithCopyWarning: \n",
      "A value is trying to be set on a copy of a slice from a DataFrame.\n",
      "Try using .loc[row_indexer,col_indexer] = value instead\n",
      "\n",
      "See the caveats in the documentation: https://pandas.pydata.org/pandas-docs/stable/user_guide/indexing.html#returning-a-view-versus-a-copy\n",
      "  df2[\"area_code\"] = df2['series_id'].apply(lambda x: x[3:18])\n"
     ]
    }
   ],
   "source": [
    "# Since I need to know the names of the MSAs, I create a new column 'area_code' using appropriate indexes\n",
    "# from series_id\n",
    "# This new column will be used to create a join with the data file containing names of MSAs\n",
    "df2[\"area_code\"] = df2['series_id'].apply(lambda x: x[3:18])"
   ]
  },
  {
   "cell_type": "code",
   "execution_count": 30,
   "id": "e5ca44fc",
   "metadata": {},
   "outputs": [
    {
     "data": {
      "text/html": [
       "<div>\n",
       "<style scoped>\n",
       "    .dataframe tbody tr th:only-of-type {\n",
       "        vertical-align: middle;\n",
       "    }\n",
       "\n",
       "    .dataframe tbody tr th {\n",
       "        vertical-align: top;\n",
       "    }\n",
       "\n",
       "    .dataframe thead th {\n",
       "        text-align: right;\n",
       "    }\n",
       "</style>\n",
       "<table border=\"1\" class=\"dataframe\">\n",
       "  <thead>\n",
       "    <tr style=\"text-align: right;\">\n",
       "      <th></th>\n",
       "      <th>series_id</th>\n",
       "      <th>year</th>\n",
       "      <th>period</th>\n",
       "      <th>unemployment</th>\n",
       "      <th>measure</th>\n",
       "      <th>area_code</th>\n",
       "    </tr>\n",
       "  </thead>\n",
       "  <tbody>\n",
       "    <tr>\n",
       "      <th>0</th>\n",
       "      <td>LASMT261982000000003</td>\n",
       "      <td>1990</td>\n",
       "      <td>M01</td>\n",
       "      <td>7.6</td>\n",
       "      <td>03</td>\n",
       "      <td>MT2619820000000</td>\n",
       "    </tr>\n",
       "    <tr>\n",
       "      <th>1</th>\n",
       "      <td>LASMT261982000000003</td>\n",
       "      <td>1990</td>\n",
       "      <td>M02</td>\n",
       "      <td>7.6</td>\n",
       "      <td>03</td>\n",
       "      <td>MT2619820000000</td>\n",
       "    </tr>\n",
       "    <tr>\n",
       "      <th>2</th>\n",
       "      <td>LASMT261982000000003</td>\n",
       "      <td>1990</td>\n",
       "      <td>M03</td>\n",
       "      <td>7.5</td>\n",
       "      <td>03</td>\n",
       "      <td>MT2619820000000</td>\n",
       "    </tr>\n",
       "    <tr>\n",
       "      <th>3</th>\n",
       "      <td>LASMT261982000000003</td>\n",
       "      <td>1990</td>\n",
       "      <td>M04</td>\n",
       "      <td>7.6</td>\n",
       "      <td>03</td>\n",
       "      <td>MT2619820000000</td>\n",
       "    </tr>\n",
       "    <tr>\n",
       "      <th>4</th>\n",
       "      <td>LASMT261982000000003</td>\n",
       "      <td>1990</td>\n",
       "      <td>M05</td>\n",
       "      <td>7.6</td>\n",
       "      <td>03</td>\n",
       "      <td>MT2619820000000</td>\n",
       "    </tr>\n",
       "  </tbody>\n",
       "</table>\n",
       "</div>"
      ],
      "text/plain": [
       "                        series_id  year period  unemployment measure  \\\n",
       "0  LASMT261982000000003            1990    M01           7.6      03   \n",
       "1  LASMT261982000000003            1990    M02           7.6      03   \n",
       "2  LASMT261982000000003            1990    M03           7.5      03   \n",
       "3  LASMT261982000000003            1990    M04           7.6      03   \n",
       "4  LASMT261982000000003            1990    M05           7.6      03   \n",
       "\n",
       "         area_code  \n",
       "0  MT2619820000000  \n",
       "1  MT2619820000000  \n",
       "2  MT2619820000000  \n",
       "3  MT2619820000000  \n",
       "4  MT2619820000000  "
      ]
     },
     "execution_count": 30,
     "metadata": {},
     "output_type": "execute_result"
    }
   ],
   "source": [
    "df2.head()"
   ]
  },
  {
   "cell_type": "markdown",
   "id": "f0d9fe1b",
   "metadata": {},
   "source": [
    "df2 (unemployment values dataset) will be merged with df3 (area code names) to get a panel dataset of unemployment rate in metropolitan statistical areas"
   ]
  },
  {
   "cell_type": "code",
   "execution_count": 32,
   "id": "afbc1ffa",
   "metadata": {},
   "outputs": [
    {
     "data": {
      "text/html": [
       "<div>\n",
       "<style scoped>\n",
       "    .dataframe tbody tr th:only-of-type {\n",
       "        vertical-align: middle;\n",
       "    }\n",
       "\n",
       "    .dataframe tbody tr th {\n",
       "        vertical-align: top;\n",
       "    }\n",
       "\n",
       "    .dataframe thead th {\n",
       "        text-align: right;\n",
       "    }\n",
       "</style>\n",
       "<table border=\"1\" class=\"dataframe\">\n",
       "  <thead>\n",
       "    <tr style=\"text-align: right;\">\n",
       "      <th></th>\n",
       "      <th>area_type_code</th>\n",
       "      <th>area_code</th>\n",
       "      <th>area_text</th>\n",
       "      <th>display_level</th>\n",
       "      <th>selectable</th>\n",
       "      <th>sort_sequence</th>\n",
       "    </tr>\n",
       "  </thead>\n",
       "  <tbody>\n",
       "    <tr>\n",
       "      <th>0</th>\n",
       "      <td>A</td>\n",
       "      <td>ST0100000000000</td>\n",
       "      <td>Alabama</td>\n",
       "      <td>0</td>\n",
       "      <td>T</td>\n",
       "      <td>1</td>\n",
       "    </tr>\n",
       "    <tr>\n",
       "      <th>1</th>\n",
       "      <td>A</td>\n",
       "      <td>ST0200000000000</td>\n",
       "      <td>Alaska</td>\n",
       "      <td>0</td>\n",
       "      <td>T</td>\n",
       "      <td>149</td>\n",
       "    </tr>\n",
       "    <tr>\n",
       "      <th>2</th>\n",
       "      <td>A</td>\n",
       "      <td>ST0400000000000</td>\n",
       "      <td>Arizona</td>\n",
       "      <td>0</td>\n",
       "      <td>T</td>\n",
       "      <td>193</td>\n",
       "    </tr>\n",
       "    <tr>\n",
       "      <th>3</th>\n",
       "      <td>A</td>\n",
       "      <td>ST0500000000000</td>\n",
       "      <td>Arkansas</td>\n",
       "      <td>0</td>\n",
       "      <td>T</td>\n",
       "      <td>257</td>\n",
       "    </tr>\n",
       "    <tr>\n",
       "      <th>4</th>\n",
       "      <td>A</td>\n",
       "      <td>ST0600000000000</td>\n",
       "      <td>California</td>\n",
       "      <td>0</td>\n",
       "      <td>T</td>\n",
       "      <td>383</td>\n",
       "    </tr>\n",
       "  </tbody>\n",
       "</table>\n",
       "</div>"
      ],
      "text/plain": [
       "  area_type_code        area_code   area_text  display_level selectable  \\\n",
       "0              A  ST0100000000000     Alabama              0          T   \n",
       "1              A  ST0200000000000      Alaska              0          T   \n",
       "2              A  ST0400000000000     Arizona              0          T   \n",
       "3              A  ST0500000000000    Arkansas              0          T   \n",
       "4              A  ST0600000000000  California              0          T   \n",
       "\n",
       "   sort_sequence  \n",
       "0              1  \n",
       "1            149  \n",
       "2            193  \n",
       "3            257  \n",
       "4            383  "
      ]
     },
     "execution_count": 32,
     "metadata": {},
     "output_type": "execute_result"
    }
   ],
   "source": [
    "# Read in the area codes data. The data is tab delimited\n",
    "# This data will be mapped to the unemployment time series\n",
    "df3 = pd.read_csv('area_codes.csv', delimiter=\"\\t\")\n",
    "df3.head(5)"
   ]
  },
  {
   "cell_type": "code",
   "execution_count": 33,
   "id": "e804bf98",
   "metadata": {},
   "outputs": [
    {
     "data": {
      "text/plain": [
       "Index(['area_type_code', 'area_code', 'area_text', 'display_level',\n",
       "       'selectable', 'sort_sequence'],\n",
       "      dtype='object')"
      ]
     },
     "execution_count": 33,
     "metadata": {},
     "output_type": "execute_result"
    }
   ],
   "source": [
    "# Check for issues with column names\n",
    "df3.columns"
   ]
  },
  {
   "cell_type": "code",
   "execution_count": 34,
   "id": "4771accb",
   "metadata": {},
   "outputs": [
    {
     "data": {
      "text/plain": [
       "F    3224\n",
       "G    1919\n",
       "H    1430\n",
       "D     562\n",
       "B     396\n",
       "I     321\n",
       "E     178\n",
       "K     160\n",
       "J      71\n",
       "A      52\n",
       "C      38\n",
       "N       9\n",
       "L       7\n",
       "M       4\n",
       "Name: area_type_code, dtype: int64"
      ]
     },
     "execution_count": 34,
     "metadata": {},
     "output_type": "execute_result"
    }
   ],
   "source": [
    "# Will use area code B for metropolitan statistical areas\n",
    "# See https://download.bls.gov/pub/time.series/la/la.area_type\n",
    "df3['area_type_code'].value_counts()"
   ]
  },
  {
   "cell_type": "code",
   "execution_count": 35,
   "id": "aaab15b8",
   "metadata": {},
   "outputs": [],
   "source": [
    "# Filter metropolitan areas\n",
    "df4 = df3[df3['area_type_code'] == 'B']"
   ]
  },
  {
   "cell_type": "code",
   "execution_count": 36,
   "id": "e57f1107",
   "metadata": {},
   "outputs": [
    {
     "data": {
      "text/plain": [
       "B    396\n",
       "Name: area_type_code, dtype: int64"
      ]
     },
     "execution_count": 36,
     "metadata": {},
     "output_type": "execute_result"
    }
   ],
   "source": [
    "df4['area_type_code'].value_counts()"
   ]
  },
  {
   "cell_type": "code",
   "execution_count": 37,
   "id": "e846663b",
   "metadata": {},
   "outputs": [],
   "source": [
    "# Merging unemployment statistics with MSA names\n",
    "df5 = df2.merge(df4, on='area_code')"
   ]
  },
  {
   "cell_type": "code",
   "execution_count": 38,
   "id": "83ff99fd",
   "metadata": {},
   "outputs": [
    {
     "name": "stdout",
     "output_type": "stream",
     "text": [
      "<class 'pandas.core.frame.DataFrame'>\n",
      "Int64Index: 169058 entries, 0 to 169057\n",
      "Data columns (total 11 columns):\n",
      " #   Column          Non-Null Count   Dtype  \n",
      "---  ------          --------------   -----  \n",
      " 0   series_id       169058 non-null  object \n",
      " 1   year            169058 non-null  int64  \n",
      " 2   period          169058 non-null  object \n",
      " 3   unemployment    169058 non-null  float64\n",
      " 4   measure         169058 non-null  object \n",
      " 5   area_code       169058 non-null  object \n",
      " 6   area_type_code  169058 non-null  object \n",
      " 7   area_text       169058 non-null  object \n",
      " 8   display_level   169058 non-null  int64  \n",
      " 9   selectable      169058 non-null  object \n",
      " 10  sort_sequence   169058 non-null  int64  \n",
      "dtypes: float64(1), int64(3), object(7)\n",
      "memory usage: 15.5+ MB\n"
     ]
    }
   ],
   "source": [
    "df5.info()"
   ]
  },
  {
   "cell_type": "code",
   "execution_count": 39,
   "id": "c07b62a8",
   "metadata": {},
   "outputs": [
    {
     "data": {
      "text/html": [
       "<div>\n",
       "<style scoped>\n",
       "    .dataframe tbody tr th:only-of-type {\n",
       "        vertical-align: middle;\n",
       "    }\n",
       "\n",
       "    .dataframe tbody tr th {\n",
       "        vertical-align: top;\n",
       "    }\n",
       "\n",
       "    .dataframe thead th {\n",
       "        text-align: right;\n",
       "    }\n",
       "</style>\n",
       "<table border=\"1\" class=\"dataframe\">\n",
       "  <thead>\n",
       "    <tr style=\"text-align: right;\">\n",
       "      <th></th>\n",
       "      <th>series_id</th>\n",
       "      <th>year</th>\n",
       "      <th>period</th>\n",
       "      <th>unemployment</th>\n",
       "      <th>measure</th>\n",
       "      <th>area_code</th>\n",
       "      <th>area_type_code</th>\n",
       "      <th>area_text</th>\n",
       "      <th>display_level</th>\n",
       "      <th>selectable</th>\n",
       "      <th>sort_sequence</th>\n",
       "    </tr>\n",
       "  </thead>\n",
       "  <tbody>\n",
       "    <tr>\n",
       "      <th>0</th>\n",
       "      <td>LASMT261982000000003</td>\n",
       "      <td>1990</td>\n",
       "      <td>M01</td>\n",
       "      <td>7.6</td>\n",
       "      <td>03</td>\n",
       "      <td>MT2619820000000</td>\n",
       "      <td>B</td>\n",
       "      <td>Detroit-Warren-Dearborn, MI Metropolitan Stati...</td>\n",
       "      <td>0</td>\n",
       "      <td>T</td>\n",
       "      <td>3747</td>\n",
       "    </tr>\n",
       "    <tr>\n",
       "      <th>1</th>\n",
       "      <td>LASMT261982000000003</td>\n",
       "      <td>1990</td>\n",
       "      <td>M02</td>\n",
       "      <td>7.6</td>\n",
       "      <td>03</td>\n",
       "      <td>MT2619820000000</td>\n",
       "      <td>B</td>\n",
       "      <td>Detroit-Warren-Dearborn, MI Metropolitan Stati...</td>\n",
       "      <td>0</td>\n",
       "      <td>T</td>\n",
       "      <td>3747</td>\n",
       "    </tr>\n",
       "    <tr>\n",
       "      <th>2</th>\n",
       "      <td>LASMT261982000000003</td>\n",
       "      <td>1990</td>\n",
       "      <td>M03</td>\n",
       "      <td>7.5</td>\n",
       "      <td>03</td>\n",
       "      <td>MT2619820000000</td>\n",
       "      <td>B</td>\n",
       "      <td>Detroit-Warren-Dearborn, MI Metropolitan Stati...</td>\n",
       "      <td>0</td>\n",
       "      <td>T</td>\n",
       "      <td>3747</td>\n",
       "    </tr>\n",
       "    <tr>\n",
       "      <th>3</th>\n",
       "      <td>LASMT261982000000003</td>\n",
       "      <td>1990</td>\n",
       "      <td>M04</td>\n",
       "      <td>7.6</td>\n",
       "      <td>03</td>\n",
       "      <td>MT2619820000000</td>\n",
       "      <td>B</td>\n",
       "      <td>Detroit-Warren-Dearborn, MI Metropolitan Stati...</td>\n",
       "      <td>0</td>\n",
       "      <td>T</td>\n",
       "      <td>3747</td>\n",
       "    </tr>\n",
       "    <tr>\n",
       "      <th>4</th>\n",
       "      <td>LASMT261982000000003</td>\n",
       "      <td>1990</td>\n",
       "      <td>M05</td>\n",
       "      <td>7.6</td>\n",
       "      <td>03</td>\n",
       "      <td>MT2619820000000</td>\n",
       "      <td>B</td>\n",
       "      <td>Detroit-Warren-Dearborn, MI Metropolitan Stati...</td>\n",
       "      <td>0</td>\n",
       "      <td>T</td>\n",
       "      <td>3747</td>\n",
       "    </tr>\n",
       "  </tbody>\n",
       "</table>\n",
       "</div>"
      ],
      "text/plain": [
       "                        series_id  year period  unemployment measure  \\\n",
       "0  LASMT261982000000003            1990    M01           7.6      03   \n",
       "1  LASMT261982000000003            1990    M02           7.6      03   \n",
       "2  LASMT261982000000003            1990    M03           7.5      03   \n",
       "3  LASMT261982000000003            1990    M04           7.6      03   \n",
       "4  LASMT261982000000003            1990    M05           7.6      03   \n",
       "\n",
       "         area_code area_type_code  \\\n",
       "0  MT2619820000000              B   \n",
       "1  MT2619820000000              B   \n",
       "2  MT2619820000000              B   \n",
       "3  MT2619820000000              B   \n",
       "4  MT2619820000000              B   \n",
       "\n",
       "                                           area_text  display_level  \\\n",
       "0  Detroit-Warren-Dearborn, MI Metropolitan Stati...              0   \n",
       "1  Detroit-Warren-Dearborn, MI Metropolitan Stati...              0   \n",
       "2  Detroit-Warren-Dearborn, MI Metropolitan Stati...              0   \n",
       "3  Detroit-Warren-Dearborn, MI Metropolitan Stati...              0   \n",
       "4  Detroit-Warren-Dearborn, MI Metropolitan Stati...              0   \n",
       "\n",
       "  selectable  sort_sequence  \n",
       "0          T           3747  \n",
       "1          T           3747  \n",
       "2          T           3747  \n",
       "3          T           3747  \n",
       "4          T           3747  "
      ]
     },
     "execution_count": 39,
     "metadata": {},
     "output_type": "execute_result"
    }
   ],
   "source": [
    "df5.head()"
   ]
  },
  {
   "cell_type": "code",
   "execution_count": 40,
   "id": "cd0f83a8",
   "metadata": {},
   "outputs": [
    {
     "data": {
      "text/plain": [
       "M01    13134\n",
       "M02    13134\n",
       "M05    13134\n",
       "M06    13134\n",
       "M07    13134\n",
       "M08    13134\n",
       "M03    13127\n",
       "M04    13127\n",
       "M09    13127\n",
       "M10    12736\n",
       "M11    12736\n",
       "M12    12736\n",
       "M13    12665\n",
       "Name: period, dtype: int64"
      ]
     },
     "execution_count": 40,
     "metadata": {},
     "output_type": "execute_result"
    }
   ],
   "source": [
    "# Checking the periodicity of the data using the 'period' column\n",
    "# There are 13 values where M13 is the annual data.\n",
    "df5.period.value_counts()"
   ]
  },
  {
   "cell_type": "code",
   "execution_count": 41,
   "id": "c47a1f4e",
   "metadata": {},
   "outputs": [
    {
     "data": {
      "text/html": [
       "<div>\n",
       "<style scoped>\n",
       "    .dataframe tbody tr th:only-of-type {\n",
       "        vertical-align: middle;\n",
       "    }\n",
       "\n",
       "    .dataframe tbody tr th {\n",
       "        vertical-align: top;\n",
       "    }\n",
       "\n",
       "    .dataframe thead th {\n",
       "        text-align: right;\n",
       "    }\n",
       "</style>\n",
       "<table border=\"1\" class=\"dataframe\">\n",
       "  <thead>\n",
       "    <tr style=\"text-align: right;\">\n",
       "      <th></th>\n",
       "      <th>series_id</th>\n",
       "      <th>year</th>\n",
       "      <th>period</th>\n",
       "      <th>unemployment</th>\n",
       "      <th>measure</th>\n",
       "      <th>area_code</th>\n",
       "      <th>area_type_code</th>\n",
       "      <th>area_text</th>\n",
       "      <th>display_level</th>\n",
       "      <th>selectable</th>\n",
       "      <th>sort_sequence</th>\n",
       "    </tr>\n",
       "  </thead>\n",
       "  <tbody>\n",
       "    <tr>\n",
       "      <th>405</th>\n",
       "      <td>LAUMT261982000000003</td>\n",
       "      <td>1990</td>\n",
       "      <td>M13</td>\n",
       "      <td>7.9</td>\n",
       "      <td>03</td>\n",
       "      <td>MT2619820000000</td>\n",
       "      <td>B</td>\n",
       "      <td>Detroit-Warren-Dearborn, MI Metropolitan Stati...</td>\n",
       "      <td>0</td>\n",
       "      <td>T</td>\n",
       "      <td>3747</td>\n",
       "    </tr>\n",
       "    <tr>\n",
       "      <th>418</th>\n",
       "      <td>LAUMT261982000000003</td>\n",
       "      <td>1991</td>\n",
       "      <td>M13</td>\n",
       "      <td>9.8</td>\n",
       "      <td>03</td>\n",
       "      <td>MT2619820000000</td>\n",
       "      <td>B</td>\n",
       "      <td>Detroit-Warren-Dearborn, MI Metropolitan Stati...</td>\n",
       "      <td>0</td>\n",
       "      <td>T</td>\n",
       "      <td>3747</td>\n",
       "    </tr>\n",
       "    <tr>\n",
       "      <th>431</th>\n",
       "      <td>LAUMT261982000000003</td>\n",
       "      <td>1992</td>\n",
       "      <td>M13</td>\n",
       "      <td>9.5</td>\n",
       "      <td>03</td>\n",
       "      <td>MT2619820000000</td>\n",
       "      <td>B</td>\n",
       "      <td>Detroit-Warren-Dearborn, MI Metropolitan Stati...</td>\n",
       "      <td>0</td>\n",
       "      <td>T</td>\n",
       "      <td>3747</td>\n",
       "    </tr>\n",
       "    <tr>\n",
       "      <th>444</th>\n",
       "      <td>LAUMT261982000000003</td>\n",
       "      <td>1993</td>\n",
       "      <td>M13</td>\n",
       "      <td>7.3</td>\n",
       "      <td>03</td>\n",
       "      <td>MT2619820000000</td>\n",
       "      <td>B</td>\n",
       "      <td>Detroit-Warren-Dearborn, MI Metropolitan Stati...</td>\n",
       "      <td>0</td>\n",
       "      <td>T</td>\n",
       "      <td>3747</td>\n",
       "    </tr>\n",
       "    <tr>\n",
       "      <th>457</th>\n",
       "      <td>LAUMT261982000000003</td>\n",
       "      <td>1994</td>\n",
       "      <td>M13</td>\n",
       "      <td>5.7</td>\n",
       "      <td>03</td>\n",
       "      <td>MT2619820000000</td>\n",
       "      <td>B</td>\n",
       "      <td>Detroit-Warren-Dearborn, MI Metropolitan Stati...</td>\n",
       "      <td>0</td>\n",
       "      <td>T</td>\n",
       "      <td>3747</td>\n",
       "    </tr>\n",
       "  </tbody>\n",
       "</table>\n",
       "</div>"
      ],
      "text/plain": [
       "                          series_id  year period  unemployment measure  \\\n",
       "405  LAUMT261982000000003            1990    M13           7.9      03   \n",
       "418  LAUMT261982000000003            1991    M13           9.8      03   \n",
       "431  LAUMT261982000000003            1992    M13           9.5      03   \n",
       "444  LAUMT261982000000003            1993    M13           7.3      03   \n",
       "457  LAUMT261982000000003            1994    M13           5.7      03   \n",
       "\n",
       "           area_code area_type_code  \\\n",
       "405  MT2619820000000              B   \n",
       "418  MT2619820000000              B   \n",
       "431  MT2619820000000              B   \n",
       "444  MT2619820000000              B   \n",
       "457  MT2619820000000              B   \n",
       "\n",
       "                                             area_text  display_level  \\\n",
       "405  Detroit-Warren-Dearborn, MI Metropolitan Stati...              0   \n",
       "418  Detroit-Warren-Dearborn, MI Metropolitan Stati...              0   \n",
       "431  Detroit-Warren-Dearborn, MI Metropolitan Stati...              0   \n",
       "444  Detroit-Warren-Dearborn, MI Metropolitan Stati...              0   \n",
       "457  Detroit-Warren-Dearborn, MI Metropolitan Stati...              0   \n",
       "\n",
       "    selectable  sort_sequence  \n",
       "405          T           3747  \n",
       "418          T           3747  \n",
       "431          T           3747  \n",
       "444          T           3747  \n",
       "457          T           3747  "
      ]
     },
     "execution_count": 41,
     "metadata": {},
     "output_type": "execute_result"
    }
   ],
   "source": [
    "# Rows where the period value is M13 can be selected for analysis with annual data\n",
    "annual_unemployment = df5[df5['period'] == 'M13']\n",
    "annual_unemployment.head()"
   ]
  },
  {
   "cell_type": "code",
   "execution_count": 42,
   "id": "cf055c3d",
   "metadata": {},
   "outputs": [
    {
     "data": {
      "text/html": [
       "<div>\n",
       "<style scoped>\n",
       "    .dataframe tbody tr th:only-of-type {\n",
       "        vertical-align: middle;\n",
       "    }\n",
       "\n",
       "    .dataframe tbody tr th {\n",
       "        vertical-align: top;\n",
       "    }\n",
       "\n",
       "    .dataframe thead th {\n",
       "        text-align: right;\n",
       "    }\n",
       "</style>\n",
       "<table border=\"1\" class=\"dataframe\">\n",
       "  <thead>\n",
       "    <tr style=\"text-align: right;\">\n",
       "      <th></th>\n",
       "      <th>series_id</th>\n",
       "      <th>year</th>\n",
       "      <th>period</th>\n",
       "      <th>unemployment</th>\n",
       "      <th>measure</th>\n",
       "      <th>area_code</th>\n",
       "      <th>area_type_code</th>\n",
       "      <th>area_text</th>\n",
       "      <th>display_level</th>\n",
       "      <th>selectable</th>\n",
       "      <th>sort_sequence</th>\n",
       "    </tr>\n",
       "  </thead>\n",
       "  <tbody>\n",
       "    <tr>\n",
       "      <th>0</th>\n",
       "      <td>LASMT261982000000003</td>\n",
       "      <td>1990</td>\n",
       "      <td>M01</td>\n",
       "      <td>7.6</td>\n",
       "      <td>03</td>\n",
       "      <td>MT2619820000000</td>\n",
       "      <td>B</td>\n",
       "      <td>Detroit-Warren-Dearborn, MI Metropolitan Stati...</td>\n",
       "      <td>0</td>\n",
       "      <td>T</td>\n",
       "      <td>3747</td>\n",
       "    </tr>\n",
       "    <tr>\n",
       "      <th>1</th>\n",
       "      <td>LASMT261982000000003</td>\n",
       "      <td>1990</td>\n",
       "      <td>M02</td>\n",
       "      <td>7.6</td>\n",
       "      <td>03</td>\n",
       "      <td>MT2619820000000</td>\n",
       "      <td>B</td>\n",
       "      <td>Detroit-Warren-Dearborn, MI Metropolitan Stati...</td>\n",
       "      <td>0</td>\n",
       "      <td>T</td>\n",
       "      <td>3747</td>\n",
       "    </tr>\n",
       "    <tr>\n",
       "      <th>2</th>\n",
       "      <td>LASMT261982000000003</td>\n",
       "      <td>1990</td>\n",
       "      <td>M03</td>\n",
       "      <td>7.5</td>\n",
       "      <td>03</td>\n",
       "      <td>MT2619820000000</td>\n",
       "      <td>B</td>\n",
       "      <td>Detroit-Warren-Dearborn, MI Metropolitan Stati...</td>\n",
       "      <td>0</td>\n",
       "      <td>T</td>\n",
       "      <td>3747</td>\n",
       "    </tr>\n",
       "    <tr>\n",
       "      <th>3</th>\n",
       "      <td>LASMT261982000000003</td>\n",
       "      <td>1990</td>\n",
       "      <td>M04</td>\n",
       "      <td>7.6</td>\n",
       "      <td>03</td>\n",
       "      <td>MT2619820000000</td>\n",
       "      <td>B</td>\n",
       "      <td>Detroit-Warren-Dearborn, MI Metropolitan Stati...</td>\n",
       "      <td>0</td>\n",
       "      <td>T</td>\n",
       "      <td>3747</td>\n",
       "    </tr>\n",
       "    <tr>\n",
       "      <th>4</th>\n",
       "      <td>LASMT261982000000003</td>\n",
       "      <td>1990</td>\n",
       "      <td>M05</td>\n",
       "      <td>7.6</td>\n",
       "      <td>03</td>\n",
       "      <td>MT2619820000000</td>\n",
       "      <td>B</td>\n",
       "      <td>Detroit-Warren-Dearborn, MI Metropolitan Stati...</td>\n",
       "      <td>0</td>\n",
       "      <td>T</td>\n",
       "      <td>3747</td>\n",
       "    </tr>\n",
       "  </tbody>\n",
       "</table>\n",
       "</div>"
      ],
      "text/plain": [
       "                        series_id  year period  unemployment measure  \\\n",
       "0  LASMT261982000000003            1990    M01           7.6      03   \n",
       "1  LASMT261982000000003            1990    M02           7.6      03   \n",
       "2  LASMT261982000000003            1990    M03           7.5      03   \n",
       "3  LASMT261982000000003            1990    M04           7.6      03   \n",
       "4  LASMT261982000000003            1990    M05           7.6      03   \n",
       "\n",
       "         area_code area_type_code  \\\n",
       "0  MT2619820000000              B   \n",
       "1  MT2619820000000              B   \n",
       "2  MT2619820000000              B   \n",
       "3  MT2619820000000              B   \n",
       "4  MT2619820000000              B   \n",
       "\n",
       "                                           area_text  display_level  \\\n",
       "0  Detroit-Warren-Dearborn, MI Metropolitan Stati...              0   \n",
       "1  Detroit-Warren-Dearborn, MI Metropolitan Stati...              0   \n",
       "2  Detroit-Warren-Dearborn, MI Metropolitan Stati...              0   \n",
       "3  Detroit-Warren-Dearborn, MI Metropolitan Stati...              0   \n",
       "4  Detroit-Warren-Dearborn, MI Metropolitan Stati...              0   \n",
       "\n",
       "  selectable  sort_sequence  \n",
       "0          T           3747  \n",
       "1          T           3747  \n",
       "2          T           3747  \n",
       "3          T           3747  \n",
       "4          T           3747  "
      ]
     },
     "execution_count": 42,
     "metadata": {},
     "output_type": "execute_result"
    }
   ],
   "source": [
    "# But I am interested in the monthly data so I filtered M13 rows\n",
    "monthly_unemployment = df5[df5['period'] != 'M13']\n",
    "monthly_unemployment.head()"
   ]
  },
  {
   "cell_type": "code",
   "execution_count": 43,
   "id": "22db0f10",
   "metadata": {},
   "outputs": [],
   "source": [
    "# I save the monthly data to csv\n",
    "monthly_unemployment.to_csv(\"C:\\\\Users\\Admin\\Desktop\\WebScrapper (Python-Data-Engineer)/monthly_unemployment.csv\", index=False)"
   ]
  },
  {
   "cell_type": "markdown",
   "id": "91c54795",
   "metadata": {},
   "source": [
    "This can be read in during subsequent analysis\n",
    "monthly_unemployment = pd.read_csv(\"filepath/monthly_unemployment.csv\")"
   ]
  },
  {
   "cell_type": "code",
   "execution_count": 46,
   "id": "f2a80ba9",
   "metadata": {},
   "outputs": [],
   "source": [
    "# Some further data cleaning by dropping out unneeded columns of data\n",
    "\n",
    "monthly_unemploymentdf = monthly_unemployment.drop(['series_id', 'display_level', 'selectable', 'sort_sequence'], axis = 1)"
   ]
  },
  {
   "cell_type": "markdown",
   "id": "a613b097",
   "metadata": {},
   "source": [
    "Finally I have a clean dataframe of monthly unemployment data for 396 U.S. metropolitan statistical areas Of course some further cleaning can be done for instance removing 'Metropolitan Statistical Area' from 'area_txt' column to produce the city-state names of the MSA only. \n",
    "A column of city or states only can be produced too."
   ]
  },
  {
   "cell_type": "code",
   "execution_count": 47,
   "id": "3649b7fa",
   "metadata": {},
   "outputs": [
    {
     "data": {
      "text/html": [
       "<div>\n",
       "<style scoped>\n",
       "    .dataframe tbody tr th:only-of-type {\n",
       "        vertical-align: middle;\n",
       "    }\n",
       "\n",
       "    .dataframe tbody tr th {\n",
       "        vertical-align: top;\n",
       "    }\n",
       "\n",
       "    .dataframe thead th {\n",
       "        text-align: right;\n",
       "    }\n",
       "</style>\n",
       "<table border=\"1\" class=\"dataframe\">\n",
       "  <thead>\n",
       "    <tr style=\"text-align: right;\">\n",
       "      <th></th>\n",
       "      <th>year</th>\n",
       "      <th>period</th>\n",
       "      <th>unemployment</th>\n",
       "      <th>measure</th>\n",
       "      <th>area_code</th>\n",
       "      <th>area_type_code</th>\n",
       "      <th>area_text</th>\n",
       "    </tr>\n",
       "  </thead>\n",
       "  <tbody>\n",
       "    <tr>\n",
       "      <th>0</th>\n",
       "      <td>1990</td>\n",
       "      <td>M01</td>\n",
       "      <td>7.6</td>\n",
       "      <td>03</td>\n",
       "      <td>MT2619820000000</td>\n",
       "      <td>B</td>\n",
       "      <td>Detroit-Warren-Dearborn, MI Metropolitan Stati...</td>\n",
       "    </tr>\n",
       "    <tr>\n",
       "      <th>1</th>\n",
       "      <td>1990</td>\n",
       "      <td>M02</td>\n",
       "      <td>7.6</td>\n",
       "      <td>03</td>\n",
       "      <td>MT2619820000000</td>\n",
       "      <td>B</td>\n",
       "      <td>Detroit-Warren-Dearborn, MI Metropolitan Stati...</td>\n",
       "    </tr>\n",
       "    <tr>\n",
       "      <th>2</th>\n",
       "      <td>1990</td>\n",
       "      <td>M03</td>\n",
       "      <td>7.5</td>\n",
       "      <td>03</td>\n",
       "      <td>MT2619820000000</td>\n",
       "      <td>B</td>\n",
       "      <td>Detroit-Warren-Dearborn, MI Metropolitan Stati...</td>\n",
       "    </tr>\n",
       "    <tr>\n",
       "      <th>3</th>\n",
       "      <td>1990</td>\n",
       "      <td>M04</td>\n",
       "      <td>7.6</td>\n",
       "      <td>03</td>\n",
       "      <td>MT2619820000000</td>\n",
       "      <td>B</td>\n",
       "      <td>Detroit-Warren-Dearborn, MI Metropolitan Stati...</td>\n",
       "    </tr>\n",
       "    <tr>\n",
       "      <th>4</th>\n",
       "      <td>1990</td>\n",
       "      <td>M05</td>\n",
       "      <td>7.6</td>\n",
       "      <td>03</td>\n",
       "      <td>MT2619820000000</td>\n",
       "      <td>B</td>\n",
       "      <td>Detroit-Warren-Dearborn, MI Metropolitan Stati...</td>\n",
       "    </tr>\n",
       "  </tbody>\n",
       "</table>\n",
       "</div>"
      ],
      "text/plain": [
       "   year period  unemployment measure        area_code area_type_code  \\\n",
       "0  1990    M01           7.6      03  MT2619820000000              B   \n",
       "1  1990    M02           7.6      03  MT2619820000000              B   \n",
       "2  1990    M03           7.5      03  MT2619820000000              B   \n",
       "3  1990    M04           7.6      03  MT2619820000000              B   \n",
       "4  1990    M05           7.6      03  MT2619820000000              B   \n",
       "\n",
       "                                           area_text  \n",
       "0  Detroit-Warren-Dearborn, MI Metropolitan Stati...  \n",
       "1  Detroit-Warren-Dearborn, MI Metropolitan Stati...  \n",
       "2  Detroit-Warren-Dearborn, MI Metropolitan Stati...  \n",
       "3  Detroit-Warren-Dearborn, MI Metropolitan Stati...  \n",
       "4  Detroit-Warren-Dearborn, MI Metropolitan Stati...  "
      ]
     },
     "execution_count": 47,
     "metadata": {},
     "output_type": "execute_result"
    }
   ],
   "source": [
    "monthly_unemploymentdf.head()"
   ]
  },
  {
   "cell_type": "code",
   "execution_count": 48,
   "id": "5222bab5",
   "metadata": {},
   "outputs": [],
   "source": [
    "import matplotlib.pyplot as plt"
   ]
  },
  {
   "cell_type": "code",
   "execution_count": null,
   "id": "2a30656e",
   "metadata": {},
   "outputs": [],
   "source": [
    "Year= monthly_unemploymentdf['year']\n",
    "unemployed = monthly_unemploymentdf['unemployment']\n",
    "\n",
    "col = ['orange', 'red', 'purple', 'blue', 'cyan', 'green', 'yellow', 'brown']\n",
    "plt.figure(figsize = (11, 6)) # used to set the size of figure\n",
    "plt.bar(Year, unemployed, color = col)\n",
    "\n",
    "plt.legend(title = 'Unemployment Rate per Year')\n",
    "plt.show()"
   ]
  },
  {
   "cell_type": "code",
   "execution_count": null,
   "id": "f17d42a7",
   "metadata": {},
   "outputs": [],
   "source": []
  }
 ],
 "metadata": {
  "kernelspec": {
   "display_name": "Python 3 (ipykernel)",
   "language": "python",
   "name": "python3"
  },
  "language_info": {
   "codemirror_mode": {
    "name": "ipython",
    "version": 3
   },
   "file_extension": ".py",
   "mimetype": "text/x-python",
   "name": "python",
   "nbconvert_exporter": "python",
   "pygments_lexer": "ipython3",
   "version": "3.10.4"
  }
 },
 "nbformat": 4,
 "nbformat_minor": 5
}
